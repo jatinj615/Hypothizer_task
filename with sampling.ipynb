{
 "cells": [
  {
   "cell_type": "markdown",
   "metadata": {},
   "source": [
    "## Importing Libraries"
   ]
  },
  {
   "cell_type": "code",
   "execution_count": 1,
   "metadata": {},
   "outputs": [],
   "source": [
    "import numpy as np\n",
    "import pandas as pd\n",
    "import matplotlib.pyplot as plt\n",
    "import seaborn as sns"
   ]
  },
  {
   "cell_type": "code",
   "execution_count": 2,
   "metadata": {},
   "outputs": [],
   "source": [
    "import pickle as pkl"
   ]
  },
  {
   "cell_type": "code",
   "execution_count": 3,
   "metadata": {},
   "outputs": [],
   "source": [
    "df = pd.read_pickle('df_train_api.pk')"
   ]
  },
  {
   "cell_type": "code",
   "execution_count": 4,
   "metadata": {},
   "outputs": [
    {
     "data": {
      "text/html": [
       "<div>\n",
       "<style scoped>\n",
       "    .dataframe tbody tr th:only-of-type {\n",
       "        vertical-align: middle;\n",
       "    }\n",
       "\n",
       "    .dataframe tbody tr th {\n",
       "        vertical-align: top;\n",
       "    }\n",
       "\n",
       "    .dataframe thead th {\n",
       "        text-align: right;\n",
       "    }\n",
       "</style>\n",
       "<table border=\"1\" class=\"dataframe\">\n",
       "  <thead>\n",
       "    <tr style=\"text-align: right;\">\n",
       "      <th></th>\n",
       "      <th>groups</th>\n",
       "      <th>type</th>\n",
       "      <th>data</th>\n",
       "      <th>label</th>\n",
       "      <th>coords</th>\n",
       "    </tr>\n",
       "  </thead>\n",
       "  <tbody>\n",
       "    <tr>\n",
       "      <th>270</th>\n",
       "      <td>ACME VISUAL SYSTEMS</td>\n",
       "      <td>(acm visual system, text,text,text, 2337, 1653)</td>\n",
       "      <td>14754</td>\n",
       "      <td>0</td>\n",
       "      <td>[511.0, 143.0, 1217.0, 189.0, 864.0, 166.0]</td>\n",
       "    </tr>\n",
       "    <tr>\n",
       "      <th>271</th>\n",
       "      <td>TAX INVOICE</td>\n",
       "      <td>(tax invoic, text,text, 2337, 1653)</td>\n",
       "      <td>14754</td>\n",
       "      <td>0</td>\n",
       "      <td>[717.0, 264.0, 877.0, 284.0, 797.0, 274.0]</td>\n",
       "    </tr>\n",
       "    <tr>\n",
       "      <th>272</th>\n",
       "      <td>ACME VISUAL SYSTEMS</td>\n",
       "      <td>(acm visual system, text,text,text, 2337, 1653)</td>\n",
       "      <td>14754</td>\n",
       "      <td>0</td>\n",
       "      <td>[166.0, 351.0, 435.0, 369.0, 300.5, 360.0]</td>\n",
       "    </tr>\n",
       "    <tr>\n",
       "      <th>273</th>\n",
       "      <td>808, JANTA FLAT, GTB ENCLAVE, NANAD NAGARI</td>\n",
       "      <td>(number janta flat gtb enclav nanad nagari, nu...</td>\n",
       "      <td>14754</td>\n",
       "      <td>0</td>\n",
       "      <td>[167.0, 384.0, 712.0, 403.0, 439.5, 393.5]</td>\n",
       "    </tr>\n",
       "    <tr>\n",
       "      <th>274</th>\n",
       "      <td>DELHI-110093</td>\n",
       "      <td>(delhi-110093, text, 2337, 1653)</td>\n",
       "      <td>14754</td>\n",
       "      <td>0</td>\n",
       "      <td>[168.0, 417.0, 323.0, 436.0, 245.5, 426.5]</td>\n",
       "    </tr>\n",
       "  </tbody>\n",
       "</table>\n",
       "</div>"
      ],
      "text/plain": [
       "                                         groups  \\\n",
       "270                         ACME VISUAL SYSTEMS   \n",
       "271                                 TAX INVOICE   \n",
       "272                         ACME VISUAL SYSTEMS   \n",
       "273  808, JANTA FLAT, GTB ENCLAVE, NANAD NAGARI   \n",
       "274                                DELHI-110093   \n",
       "\n",
       "                                                  type   data  label  \\\n",
       "270    (acm visual system, text,text,text, 2337, 1653)  14754      0   \n",
       "271                (tax invoic, text,text, 2337, 1653)  14754      0   \n",
       "272    (acm visual system, text,text,text, 2337, 1653)  14754      0   \n",
       "273  (number janta flat gtb enclav nanad nagari, nu...  14754      0   \n",
       "274                   (delhi-110093, text, 2337, 1653)  14754      0   \n",
       "\n",
       "                                          coords  \n",
       "270  [511.0, 143.0, 1217.0, 189.0, 864.0, 166.0]  \n",
       "271   [717.0, 264.0, 877.0, 284.0, 797.0, 274.0]  \n",
       "272   [166.0, 351.0, 435.0, 369.0, 300.5, 360.0]  \n",
       "273   [167.0, 384.0, 712.0, 403.0, 439.5, 393.5]  \n",
       "274   [168.0, 417.0, 323.0, 436.0, 245.5, 426.5]  "
      ]
     },
     "execution_count": 4,
     "metadata": {},
     "output_type": "execute_result"
    }
   ],
   "source": [
    "df.head()"
   ]
  },
  {
   "cell_type": "code",
   "execution_count": 5,
   "metadata": {},
   "outputs": [],
   "source": [
    "df0 = df.query('label==0').sample(frac = 0.1)\n",
    "df = df[df.label != 0]\n",
    "df = pd.concat([df, df0], ignore_index=True)"
   ]
  },
  {
   "cell_type": "code",
   "execution_count": 6,
   "metadata": {},
   "outputs": [
    {
     "data": {
      "text/html": [
       "<div>\n",
       "<style scoped>\n",
       "    .dataframe tbody tr th:only-of-type {\n",
       "        vertical-align: middle;\n",
       "    }\n",
       "\n",
       "    .dataframe tbody tr th {\n",
       "        vertical-align: top;\n",
       "    }\n",
       "\n",
       "    .dataframe thead th {\n",
       "        text-align: right;\n",
       "    }\n",
       "</style>\n",
       "<table border=\"1\" class=\"dataframe\">\n",
       "  <thead>\n",
       "    <tr style=\"text-align: right;\">\n",
       "      <th></th>\n",
       "      <th>groups</th>\n",
       "    </tr>\n",
       "  </thead>\n",
       "  <tbody>\n",
       "    <tr>\n",
       "      <th>0</th>\n",
       "      <td>GS-032</td>\n",
       "    </tr>\n",
       "    <tr>\n",
       "      <th>1</th>\n",
       "      <td>22/08/2017</td>\n",
       "    </tr>\n",
       "    <tr>\n",
       "      <th>2</th>\n",
       "      <td>Rs16,640</td>\n",
       "    </tr>\n",
       "    <tr>\n",
       "      <th>3</th>\n",
       "      <td>N-10-01/2016-17</td>\n",
       "    </tr>\n",
       "    <tr>\n",
       "      <th>4</th>\n",
       "      <td>10-11-2017</td>\n",
       "    </tr>\n",
       "  </tbody>\n",
       "</table>\n",
       "</div>"
      ],
      "text/plain": [
       "            groups\n",
       "0           GS-032\n",
       "1       22/08/2017\n",
       "2         Rs16,640\n",
       "3  N-10-01/2016-17\n",
       "4       10-11-2017"
      ]
     },
     "execution_count": 6,
     "metadata": {},
     "output_type": "execute_result"
    }
   ],
   "source": [
    "X = df[['groups']]\n",
    "X.head()"
   ]
  },
  {
   "cell_type": "code",
   "execution_count": 7,
   "metadata": {},
   "outputs": [
    {
     "data": {
      "text/plain": [
       "0     0.632394\n",
       "18    0.100000\n",
       "2     0.100000\n",
       "1     0.097183\n",
       "14    0.039437\n",
       "8     0.030986\n",
       "Name: label, dtype: float64"
      ]
     },
     "execution_count": 7,
     "metadata": {},
     "output_type": "execute_result"
    }
   ],
   "source": [
    "y = df['label']\n",
    "y.value_counts()/y.shape"
   ]
  },
  {
   "cell_type": "code",
   "execution_count": 8,
   "metadata": {},
   "outputs": [
    {
     "name": "stderr",
     "output_type": "stream",
     "text": [
      "/home/jatin/anaconda3/lib/python3.6/site-packages/h5py/__init__.py:36: FutureWarning: Conversion of the second argument of issubdtype from `float` to `np.floating` is deprecated. In future, it will be treated as `np.float64 == np.dtype(float).type`.\n",
      "  from ._conv import register_converters as _register_converters\n",
      "Using TensorFlow backend.\n"
     ]
    }
   ],
   "source": [
    "from keras.preprocessing.text import Tokenizer\n",
    "max_features = 4000\n",
    "tokenizer = Tokenizer(num_words=max_features, filters='!\"#$%&()*+,-./:;<=>?@[\\]^_`{|}~', split=' ', lower=True, )\n",
    "tokenizer.fit_on_texts(X['groups'].values)\n",
    "\n",
    "X = tokenizer.texts_to_sequences(X['groups'].values)\n",
    "\n",
    "# add padding\n",
    "from keras.preprocessing.sequence import pad_sequences\n",
    "X = pad_sequences(X, maxlen=40)\n"
   ]
  },
  {
   "cell_type": "markdown",
   "metadata": {},
   "source": [
    "## Import PCA"
   ]
  },
  {
   "cell_type": "code",
   "execution_count": 9,
   "metadata": {},
   "outputs": [],
   "source": [
    "from sklearn.decomposition import PCA"
   ]
  },
  {
   "cell_type": "code",
   "execution_count": 10,
   "metadata": {},
   "outputs": [],
   "source": [
    "pca = PCA(n_components=10)"
   ]
  },
  {
   "cell_type": "code",
   "execution_count": 11,
   "metadata": {},
   "outputs": [
    {
     "data": {
      "text/plain": [
       "PCA(copy=True, iterated_power='auto', n_components=10, random_state=None,\n",
       "  svd_solver='auto', tol=0.0, whiten=False)"
      ]
     },
     "execution_count": 11,
     "metadata": {},
     "output_type": "execute_result"
    }
   ],
   "source": [
    "pca.fit(X)"
   ]
  },
  {
   "cell_type": "code",
   "execution_count": 12,
   "metadata": {},
   "outputs": [
    {
     "data": {
      "image/png": "[encoded data removed]",
      "text/plain": [
       "<Figure size 432x288 with 1 Axes>"
      ]
     },
     "metadata": {},
     "output_type": "display_data"
    }
   ],
   "source": [
    "plt.plot(np.cumsum(pca.explained_variance_ratio_)*100)\n",
    "plt.xlabel(\"No. of components\")\n",
    "plt.ylabel(\"cummulative explained Variance\");"
   ]
  },
  {
   "cell_type": "code",
   "execution_count": 13,
   "metadata": {},
   "outputs": [],
   "source": [
    "X_pca = pca.transform(X)"
   ]
  },
  {
   "cell_type": "code",
   "execution_count": 14,
   "metadata": {},
   "outputs": [
    {
     "data": {
      "text/plain": [
       "(710, 10)"
      ]
     },
     "execution_count": 14,
     "metadata": {},
     "output_type": "execute_result"
    }
   ],
   "source": [
    "X_pca.shape"
   ]
  },
  {
   "cell_type": "markdown",
   "metadata": {},
   "source": [
    "## Train test split"
   ]
  },
  {
   "cell_type": "code",
   "execution_count": 15,
   "metadata": {},
   "outputs": [],
   "source": [
    "from sklearn.model_selection import train_test_split\n",
    "X_train, X_test, y_train, y_test = train_test_split(X_pca, y, test_size = 0.25, random_state = 42)"
   ]
  },
  {
   "cell_type": "markdown",
   "metadata": {},
   "source": [
    "## Evaluation function"
   ]
  },
  {
   "cell_type": "code",
   "execution_count": 16,
   "metadata": {},
   "outputs": [],
   "source": [
    "from sklearn.model_selection import cross_val_predict, cross_val_score\n",
    "from sklearn.metrics import accuracy_score, classification_report, confusion_matrix"
   ]
  },
  {
   "cell_type": "code",
   "execution_count": 17,
   "metadata": {},
   "outputs": [],
   "source": [
    "def print_score(clf, X_train, X_test, y_train, y_test, train = True):\n",
    "#     print accuracy score, classification report, confusion metrics\n",
    "    if train:\n",
    "#         training performance\n",
    "        print('Train Result : \\n')\n",
    "        print('Accuracy Score {0:.4f}\\n'.format(accuracy_score(y_train, clf.predict(X_train))))\n",
    "        print('Classification Report : \\n {} \\n'.format(classification_report(y_train, clf.predict(X_train))))\n",
    "        print('Confusion Metrics : \\n {} \\n'.format(confusion_matrix(y_train, clf.predict(X_train))))\n",
    "        \n",
    "        res = cross_val_score(clf, X_train, y_train, cv = 10, scoring='accuracy')\n",
    "        print('Average Accuracy : {0:.4f}\\n'.format(np.mean(res)))\n",
    "        print('Accuracy SD : {0:.4f}\\n'.format(np.std(res)))\n",
    "        \n",
    "    elif train == False:\n",
    "#         test performance\n",
    "        print('Test Result : \\n')\n",
    "        print('Accuracy Score {0:.4f}\\n'.format(accuracy_score(y_test, clf.predict(X_test))))\n",
    "        print('Classification Report : \\n {}\\n'.format(classification_report(y_test, clf.predict(X_test))))\n",
    "        print('Confusion Metrics : \\n {} \\n'.format(confusion_matrix(y_test, clf.predict(X_test))))\n"
   ]
  },
  {
   "cell_type": "markdown",
   "metadata": {},
   "source": [
    "## Decision Tree"
   ]
  },
  {
   "cell_type": "code",
   "execution_count": 18,
   "metadata": {},
   "outputs": [],
   "source": [
    "from sklearn.ensemble import BaggingClassifier, RandomForestClassifier, AdaBoostClassifier\n",
    "from sklearn.svm import SVC\n",
    "from sklearn.linear_model import LogisticRegression\n",
    "from sklearn.tree import DecisionTreeClassifier\n",
    "from sklearn.neighbors import KNeighborsClassifier\n",
    "import xgboost as xgb\n",
    "from sklearn.model_selection import GridSearchCV"
   ]
  },
  {
   "cell_type": "code",
   "execution_count": 19,
   "metadata": {},
   "outputs": [],
   "source": [
    "dt_clf = DecisionTreeClassifier()"
   ]
  },
  {
   "cell_type": "code",
   "execution_count": 20,
   "metadata": {},
   "outputs": [],
   "source": [
    "params = {'min_samples_split': range(2, 20),\n",
    "          'min_samples_leaf': range(2, 10),\n",
    "          'criterion': ['entropy', 'gini'],\n",
    "          'max_depth': [5, 10, 15, 20]}"
   ]
  },
  {
   "cell_type": "code",
   "execution_count": 21,
   "metadata": {},
   "outputs": [],
   "source": [
    "clf = GridSearchCV(dt_clf, param_grid=params, cv=10)"
   ]
  },
  {
   "cell_type": "code",
   "execution_count": 22,
   "metadata": {},
   "outputs": [
    {
     "data": {
      "text/plain": [
       "GridSearchCV(cv=10, error_score='raise',\n",
       "       estimator=DecisionTreeClassifier(class_weight=None, criterion='gini', max_depth=None,\n",
       "            max_features=None, max_leaf_nodes=None,\n",
       "            min_impurity_decrease=0.0, min_impurity_split=None,\n",
       "            min_samples_leaf=1, min_samples_split=2,\n",
       "            min_weight_fraction_leaf=0.0, presort=False, random_state=None,\n",
       "            splitter='best'),\n",
       "       fit_params=None, iid=True, n_jobs=1,\n",
       "       param_grid={'min_samples_split': range(2, 20), 'min_samples_leaf': range(2, 10), 'criterion': ['entropy', 'gini'], 'max_depth': [5, 10, 15, 20]},\n",
       "       pre_dispatch='2*n_jobs', refit=True, return_train_score='warn',\n",
       "       scoring=None, verbose=0)"
      ]
     },
     "execution_count": 22,
     "metadata": {},
     "output_type": "execute_result"
    }
   ],
   "source": [
    "clf.fit(X_train, y_train)"
   ]
  },
  {
   "cell_type": "code",
   "execution_count": 23,
   "metadata": {},
   "outputs": [
    {
     "name": "stdout",
     "output_type": "stream",
     "text": [
      "Train Result : \n",
      "\n",
      "Accuracy Score 0.8778\n",
      "\n",
      "Classification Report : \n",
      "              precision    recall  f1-score   support\n",
      "\n",
      "          0       0.92      0.98      0.95       348\n",
      "          1       0.95      0.82      0.88        51\n",
      "          2       0.69      0.90      0.78        50\n",
      "          8       0.50      0.53      0.52        15\n",
      "         14       0.67      0.12      0.20        17\n",
      "         18       0.85      0.57      0.68        51\n",
      "\n",
      "avg / total       0.88      0.88      0.87       532\n",
      " \n",
      "\n",
      "Confusion Metrics : \n",
      " [[341   0   4   0   0   3]\n",
      " [  7  42   2   0   0   0]\n",
      " [  4   0  45   0   0   1]\n",
      " [  4   0   2   8   1   0]\n",
      " [  3   0   6   5   2   1]\n",
      " [ 11   2   6   3   0  29]] \n",
      "\n",
      "Average Accuracy : 0.7333\n",
      "\n",
      "Accuracy SD : 0.0582\n",
      "\n",
      "Test Result : \n",
      "\n",
      "Accuracy Score 0.6854\n",
      "\n",
      "Classification Report : \n",
      "              precision    recall  f1-score   support\n",
      "\n",
      "          0       0.75      0.92      0.83       101\n",
      "          1       0.64      0.39      0.48        18\n",
      "          2       0.50      0.62      0.55        21\n",
      "          8       0.33      0.43      0.38         7\n",
      "         14       1.00      0.09      0.17        11\n",
      "         18       0.71      0.25      0.37        20\n",
      "\n",
      "avg / total       0.70      0.69      0.65       178\n",
      "\n",
      "\n",
      "Confusion Metrics : \n",
      " [[93  1  2  4  0  1]\n",
      " [ 9  7  0  1  0  1]\n",
      " [ 8  0 13  0  0  0]\n",
      " [ 2  0  2  3  0  0]\n",
      " [ 2  0  7  1  1  0]\n",
      " [10  3  2  0  0  5]] \n",
      "\n"
     ]
    }
   ],
   "source": [
    "print_score(clf, X_train, X_test, y_train, y_test, train = True)\n",
    "print_score(clf, X_train, X_test, y_train, y_test, train = False)"
   ]
  },
  {
   "cell_type": "code",
   "execution_count": 24,
   "metadata": {},
   "outputs": [
    {
     "data": {
      "text/plain": [
       "DecisionTreeClassifier(class_weight=None, criterion='entropy', max_depth=15,\n",
       "            max_features=None, max_leaf_nodes=None,\n",
       "            min_impurity_decrease=0.0, min_impurity_split=None,\n",
       "            min_samples_leaf=3, min_samples_split=12,\n",
       "            min_weight_fraction_leaf=0.0, presort=False, random_state=None,\n",
       "            splitter='best')"
      ]
     },
     "execution_count": 24,
     "metadata": {},
     "output_type": "execute_result"
    }
   ],
   "source": [
    "clf.best_estimator_"
   ]
  },
  {
   "cell_type": "markdown",
   "metadata": {},
   "source": [
    "## Using Bagging Classifier"
   ]
  },
  {
   "cell_type": "code",
   "execution_count": 28,
   "metadata": {},
   "outputs": [],
   "source": [
    "bag_clf = BaggingClassifier()\n",
    "params = {'base_estimator': [DecisionTreeClassifier(criterion='entropy', max_depth=15, min_samples_split=10, min_samples_leaf=5), RandomForestClassifier()],\n",
    "          'n_estimators': [100, 200]}"
   ]
  },
  {
   "cell_type": "code",
   "execution_count": 29,
   "metadata": {},
   "outputs": [],
   "source": [
    "clf = GridSearchCV(bag_clf, param_grid=params, cv=10)"
   ]
  },
  {
   "cell_type": "code",
   "execution_count": 30,
   "metadata": {},
   "outputs": [
    {
     "data": {
      "text/plain": [
       "GridSearchCV(cv=10, error_score='raise',\n",
       "       estimator=BaggingClassifier(base_estimator=None, bootstrap=True,\n",
       "         bootstrap_features=False, max_features=1.0, max_samples=1.0,\n",
       "         n_estimators=10, n_jobs=1, oob_score=False, random_state=None,\n",
       "         verbose=0, warm_start=False),\n",
       "       fit_params=None, iid=True, n_jobs=1,\n",
       "       param_grid={'base_estimator': [DecisionTreeClassifier(class_weight=None, criterion='entropy', max_depth=15,\n",
       "            max_features=None, max_leaf_nodes=None,\n",
       "            min_impurity_decrease=0.0, min_impurity_split=None,\n",
       "            min_samples_leaf=5, min_samples_split=10,\n",
       "            min_weight...ore=False, random_state=None, verbose=0,\n",
       "            warm_start=False)], 'n_estimators': [100, 200]},\n",
       "       pre_dispatch='2*n_jobs', refit=True, return_train_score='warn',\n",
       "       scoring=None, verbose=0)"
      ]
     },
     "execution_count": 30,
     "metadata": {},
     "output_type": "execute_result"
    }
   ],
   "source": [
    "clf.fit(X_train, y_train)"
   ]
  },
  {
   "cell_type": "code",
   "execution_count": 31,
   "metadata": {},
   "outputs": [
    {
     "data": {
      "text/plain": [
       "BaggingClassifier(base_estimator=RandomForestClassifier(bootstrap=True, class_weight=None, criterion='gini',\n",
       "            max_depth=None, max_features='auto', max_leaf_nodes=None,\n",
       "            min_impurity_decrease=0.0, min_impurity_split=None,\n",
       "            min_samples_leaf=1, min_samples_split=2,\n",
       "            min_weight_fraction_leaf=0.0, n_estimators=10, n_jobs=1,\n",
       "            oob_score=False, random_state=None, verbose=0,\n",
       "            warm_start=False),\n",
       "         bootstrap=True, bootstrap_features=False, max_features=1.0,\n",
       "         max_samples=1.0, n_estimators=200, n_jobs=1, oob_score=False,\n",
       "         random_state=None, verbose=0, warm_start=False)"
      ]
     },
     "execution_count": 31,
     "metadata": {},
     "output_type": "execute_result"
    }
   ],
   "source": [
    "clf.best_estimator_"
   ]
  },
  {
   "cell_type": "code",
   "execution_count": 32,
   "metadata": {},
   "outputs": [
    {
     "name": "stdout",
     "output_type": "stream",
     "text": [
      "Train Result : \n",
      "\n",
      "Accuracy Score 0.9568\n",
      "\n",
      "Classification Report : \n",
      "              precision    recall  f1-score   support\n",
      "\n",
      "          0       0.97      0.99      0.98       348\n",
      "          1       0.93      0.98      0.95        51\n",
      "          2       0.94      0.92      0.93        50\n",
      "          8       1.00      0.73      0.85        15\n",
      "         14       0.88      0.88      0.88        17\n",
      "         18       0.96      0.86      0.91        51\n",
      "\n",
      "avg / total       0.96      0.96      0.96       532\n",
      " \n",
      "\n",
      "Confusion Metrics : \n",
      " [[343   4   1   0   0   0]\n",
      " [  1  50   0   0   0   0]\n",
      " [  3   0  46   0   0   1]\n",
      " [  2   0   0  11   2   0]\n",
      " [  0   0   1   0  15   1]\n",
      " [  6   0   1   0   0  44]] \n",
      "\n",
      "Average Accuracy : 0.7859\n",
      "\n",
      "Accuracy SD : 0.0333\n",
      "\n",
      "Test Result : \n",
      "\n",
      "Accuracy Score 0.7360\n",
      "\n",
      "Classification Report : \n",
      "              precision    recall  f1-score   support\n",
      "\n",
      "          0       0.75      0.97      0.84       101\n",
      "          1       0.82      0.50      0.62        18\n",
      "          2       0.50      0.48      0.49        21\n",
      "          8       0.80      0.57      0.67         7\n",
      "         14       1.00      0.36      0.53        11\n",
      "         18       0.86      0.30      0.44        20\n",
      "\n",
      "avg / total       0.76      0.74      0.71       178\n",
      "\n",
      "\n",
      "Confusion Metrics : \n",
      " [[98  1  0  1  0  1]\n",
      " [ 9  9  0  0  0  0]\n",
      " [11  0 10  0  0  0]\n",
      " [ 1  0  2  4  0  0]\n",
      " [ 0  0  7  0  4  0]\n",
      " [12  1  1  0  0  6]] \n",
      "\n"
     ]
    }
   ],
   "source": [
    "print_score(clf, X_train, X_test, y_train, y_test, train = True)\n",
    "print_score(clf, X_train, X_test, y_train, y_test, train = False)"
   ]
  },
  {
   "cell_type": "markdown",
   "metadata": {},
   "source": [
    "## Using Random forest"
   ]
  },
  {
   "cell_type": "code",
   "execution_count": 33,
   "metadata": {},
   "outputs": [],
   "source": [
    "rf_clf = RandomForestClassifier()\n",
    "params = {'criterion': ['gini', 'entropy'],\n",
    "          'max_depth': [5, 10, 15],\n",
    "          'min_samples_split': range(2,10),\n",
    "          'min_samples_leaf': range(2, 10)}"
   ]
  },
  {
   "cell_type": "code",
   "execution_count": 34,
   "metadata": {},
   "outputs": [],
   "source": [
    "clf = GridSearchCV(rf_clf, param_grid=params, cv = 10)"
   ]
  },
  {
   "cell_type": "code",
   "execution_count": 35,
   "metadata": {},
   "outputs": [
    {
     "data": {
      "text/plain": [
       "GridSearchCV(cv=10, error_score='raise',\n",
       "       estimator=RandomForestClassifier(bootstrap=True, class_weight=None, criterion='gini',\n",
       "            max_depth=None, max_features='auto', max_leaf_nodes=None,\n",
       "            min_impurity_decrease=0.0, min_impurity_split=None,\n",
       "            min_samples_leaf=1, min_samples_split=2,\n",
       "            min_weight_fraction_leaf=0.0, n_estimators=10, n_jobs=1,\n",
       "            oob_score=False, random_state=None, verbose=0,\n",
       "            warm_start=False),\n",
       "       fit_params=None, iid=True, n_jobs=1,\n",
       "       param_grid={'criterion': ['gini', 'entropy'], 'max_depth': [5, 10, 15], 'min_samples_split': range(2, 10), 'min_samples_leaf': range(2, 10)},\n",
       "       pre_dispatch='2*n_jobs', refit=True, return_train_score='warn',\n",
       "       scoring=None, verbose=0)"
      ]
     },
     "execution_count": 35,
     "metadata": {},
     "output_type": "execute_result"
    }
   ],
   "source": [
    "clf.fit(X_train, y_train)"
   ]
  },
  {
   "cell_type": "code",
   "execution_count": 36,
   "metadata": {},
   "outputs": [
    {
     "name": "stdout",
     "output_type": "stream",
     "text": [
      "Train Result : \n",
      "\n",
      "Accuracy Score 0.9380\n",
      "\n",
      "Classification Report : \n",
      "              precision    recall  f1-score   support\n",
      "\n",
      "          0       0.96      0.99      0.97       348\n",
      "          1       0.96      0.90      0.93        51\n",
      "          2       0.87      0.96      0.91        50\n",
      "          8       0.82      0.60      0.69        15\n",
      "         14       0.86      0.71      0.77        17\n",
      "         18       0.91      0.78      0.84        51\n",
      "\n",
      "avg / total       0.94      0.94      0.94       532\n",
      " \n",
      "\n",
      "Confusion Metrics : \n",
      " [[344   2   1   0   0   1]\n",
      " [  3  46   0   1   0   1]\n",
      " [  0   0  48   0   1   1]\n",
      " [  3   0   2   9   1   0]\n",
      " [  1   0   2   1  12   1]\n",
      " [  9   0   2   0   0  40]] \n",
      "\n",
      "Average Accuracy : 0.7803\n",
      "\n",
      "Accuracy SD : 0.0319\n",
      "\n",
      "Test Result : \n",
      "\n",
      "Accuracy Score 0.7472\n",
      "\n",
      "Classification Report : \n",
      "              precision    recall  f1-score   support\n",
      "\n",
      "          0       0.76      0.95      0.84       101\n",
      "          1       0.69      0.50      0.58        18\n",
      "          2       0.58      0.52      0.55        21\n",
      "          8       0.80      0.57      0.67         7\n",
      "         14       0.86      0.55      0.67        11\n",
      "         18       1.00      0.35      0.52        20\n",
      "\n",
      "avg / total       0.76      0.75      0.73       178\n",
      "\n",
      "\n",
      "Confusion Metrics : \n",
      " [[96  3  1  1  0  0]\n",
      " [ 8  9  1  0  0  0]\n",
      " [10  0 11  0  0  0]\n",
      " [ 1  0  1  4  1  0]\n",
      " [ 1  0  4  0  6  0]\n",
      " [11  1  1  0  0  7]] \n",
      "\n"
     ]
    }
   ],
   "source": [
    "print_score(clf, X_train, X_test, y_train, y_test, train = True)\n",
    "print_score(clf, X_train, X_test, y_train, y_test, train = False)"
   ]
  },
  {
   "cell_type": "code",
   "execution_count": 37,
   "metadata": {},
   "outputs": [
    {
     "data": {
      "text/plain": [
       "RandomForestClassifier(bootstrap=True, class_weight=None, criterion='entropy',\n",
       "            max_depth=10, max_features='auto', max_leaf_nodes=None,\n",
       "            min_impurity_decrease=0.0, min_impurity_split=None,\n",
       "            min_samples_leaf=2, min_samples_split=4,\n",
       "            min_weight_fraction_leaf=0.0, n_estimators=10, n_jobs=1,\n",
       "            oob_score=False, random_state=None, verbose=0,\n",
       "            warm_start=False)"
      ]
     },
     "execution_count": 37,
     "metadata": {},
     "output_type": "execute_result"
    }
   ],
   "source": [
    "clf.best_estimator_"
   ]
  },
  {
   "cell_type": "markdown",
   "metadata": {},
   "source": [
    "## Random Forest "
   ]
  },
  {
   "cell_type": "code",
   "execution_count": 142,
   "metadata": {},
   "outputs": [],
   "source": [
    "clf = DecisionTreeClassifier(criterion='entropy', max_depth=8, min_samples_leaf=5, min_samples_split=6)"
   ]
  },
  {
   "cell_type": "code",
   "execution_count": 143,
   "metadata": {},
   "outputs": [
    {
     "data": {
      "text/plain": [
       "DecisionTreeClassifier(class_weight=None, criterion='entropy', max_depth=8,\n",
       "            max_features=None, max_leaf_nodes=None,\n",
       "            min_impurity_decrease=0.0, min_impurity_split=None,\n",
       "            min_samples_leaf=5, min_samples_split=6,\n",
       "            min_weight_fraction_leaf=0.0, presort=False, random_state=None,\n",
       "            splitter='best')"
      ]
     },
     "execution_count": 143,
     "metadata": {},
     "output_type": "execute_result"
    }
   ],
   "source": [
    "clf.fit(X_train, y_train)"
   ]
  },
  {
   "cell_type": "code",
   "execution_count": 144,
   "metadata": {},
   "outputs": [
    {
     "name": "stdout",
     "output_type": "stream",
     "text": [
      "Train Result : \n",
      "\n",
      "Accuracy Score 0.8722\n",
      "\n",
      "Classification Report : \n",
      "              precision    recall  f1-score   support\n",
      "\n",
      "          0       0.93      0.97      0.95       348\n",
      "          1       0.79      0.88      0.83        51\n",
      "          2       0.69      0.82      0.75        50\n",
      "          8       0.80      0.27      0.40        15\n",
      "         14       0.55      0.35      0.43        17\n",
      "         18       0.86      0.61      0.71        51\n",
      "\n",
      "avg / total       0.87      0.87      0.86       532\n",
      " \n",
      "\n",
      "Confusion Metrics : \n",
      " [[337   7   2   1   1   0]\n",
      " [  5  45   1   0   0   0]\n",
      " [  8   0  41   0   0   1]\n",
      " [  5   1   3   4   2   0]\n",
      " [  2   0   5   0   6   4]\n",
      " [  7   4   7   0   2  31]] \n",
      "\n",
      "Average Accuracy : 0.7595\n",
      "\n",
      "Accuracy SD : 0.0482\n",
      "\n",
      "Test Result : \n",
      "\n",
      "Accuracy Score 0.7303\n",
      "\n",
      "Classification Report : \n",
      "              precision    recall  f1-score   support\n",
      "\n",
      "          0       0.81      0.95      0.88       101\n",
      "          1       0.56      0.56      0.56        18\n",
      "          2       0.50      0.67      0.57        21\n",
      "          8       1.00      0.29      0.44         7\n",
      "         14       0.67      0.18      0.29        11\n",
      "         18       0.67      0.30      0.41        20\n",
      "\n",
      "avg / total       0.73      0.73      0.70       178\n",
      "\n",
      "\n",
      "Confusion Metrics : \n",
      " [[96  1  2  0  0  2]\n",
      " [ 7 10  0  0  0  1]\n",
      " [ 6  1 14  0  0  0]\n",
      " [ 3  0  1  2  1  0]\n",
      " [ 1  0  8  0  2  0]\n",
      " [ 5  6  3  0  0  6]] \n",
      "\n"
     ]
    }
   ],
   "source": [
    "print_score(clf, X_train, X_test, y_train, y_test, train = True)\n",
    "print_score(clf, X_train, X_test, y_train, y_test, train = False)"
   ]
  },
  {
   "cell_type": "markdown",
   "metadata": {},
   "source": [
    "## ADABoost"
   ]
  },
  {
   "cell_type": "code",
   "execution_count": 201,
   "metadata": {},
   "outputs": [],
   "source": [
    "clf = AdaBoostClassifier(base_estimator=DecisionTreeClassifier(criterion='entropy', max_depth=10, min_samples_leaf=5, min_samples_split=6), learning_rate=4.5, n_estimators=20)"
   ]
  },
  {
   "cell_type": "code",
   "execution_count": 202,
   "metadata": {},
   "outputs": [
    {
     "data": {
      "text/plain": [
       "AdaBoostClassifier(algorithm='SAMME.R',\n",
       "          base_estimator=DecisionTreeClassifier(class_weight=None, criterion='entropy', max_depth=10,\n",
       "            max_features=None, max_leaf_nodes=None,\n",
       "            min_impurity_decrease=0.0, min_impurity_split=None,\n",
       "            min_samples_leaf=5, min_samples_split=6,\n",
       "            min_weight_fraction_leaf=0.0, presort=False, random_state=None,\n",
       "            splitter='best'),\n",
       "          learning_rate=4.5, n_estimators=20, random_state=None)"
      ]
     },
     "execution_count": 202,
     "metadata": {},
     "output_type": "execute_result"
    }
   ],
   "source": [
    "clf.fit(X_train, y_train)"
   ]
  },
  {
   "cell_type": "code",
   "execution_count": 203,
   "metadata": {},
   "outputs": [
    {
     "name": "stdout",
     "output_type": "stream",
     "text": [
      "Train Result : \n",
      "\n",
      "Accuracy Score 0.7914\n",
      "\n",
      "Classification Report : \n",
      "              precision    recall  f1-score   support\n",
      "\n",
      "          0       0.89      0.87      0.88       348\n",
      "          1       0.90      0.75      0.82        51\n",
      "          2       0.63      0.72      0.67        50\n",
      "          8       0.50      0.67      0.57        15\n",
      "         14       0.50      0.59      0.54        17\n",
      "         18       0.48      0.49      0.49        51\n",
      "\n",
      "avg / total       0.80      0.79      0.79       532\n",
      " \n",
      "\n",
      "Confusion Metrics : \n",
      " [[302   4  17   4   0  21]\n",
      " [  7  38   0   0   0   6]\n",
      " [  3   0  36   4   7   0]\n",
      " [  4   0   0  10   1   0]\n",
      " [  5   0   1   1  10   0]\n",
      " [ 20   0   3   1   2  25]] \n",
      "\n",
      "Average Accuracy : 0.6111\n",
      "\n",
      "Accuracy SD : 0.0810\n",
      "\n",
      "Test Result : \n",
      "\n",
      "Accuracy Score 0.5955\n",
      "\n",
      "Classification Report : \n",
      "              precision    recall  f1-score   support\n",
      "\n",
      "          0       0.75      0.77      0.76       101\n",
      "          1       0.62      0.44      0.52        18\n",
      "          2       0.27      0.33      0.30        21\n",
      "          8       0.25      0.29      0.27         7\n",
      "         14       0.45      0.45      0.45        11\n",
      "         18       0.38      0.30      0.33        20\n",
      "\n",
      "avg / total       0.60      0.60      0.60       178\n",
      "\n",
      "\n",
      "Confusion Metrics : \n",
      " [[78  2 11  3  2  5]\n",
      " [ 5  8  2  0  0  3]\n",
      " [ 8  1  7  0  3  2]\n",
      " [ 3  0  1  2  1  0]\n",
      " [ 2  0  2  2  5  0]\n",
      " [ 8  2  3  1  0  6]] \n",
      "\n"
     ]
    }
   ],
   "source": [
    "print_score(clf, X_train, X_test, y_train, y_test, train = True)\n",
    "print_score(clf, X_train, X_test, y_train, y_test, train = False)"
   ]
  },
  {
   "cell_type": "code",
   "execution_count": null,
   "metadata": {},
   "outputs": [],
   "source": []
  }
 ],
 "metadata": {
  "kernelspec": {
   "display_name": "Python 3",
   "language": "python",
   "name": "python3"
  },
  "language_info": {
   "codemirror_mode": {
    "name": "ipython",
    "version": 3
   },
   "file_extension": ".py",
   "mimetype": "text/x-python",
   "name": "python",
   "nbconvert_exporter": "python",
   "pygments_lexer": "ipython3",
   "version": "3.6.4"
  }
 },
 "nbformat": 4,
 "nbformat_minor": 2
}
