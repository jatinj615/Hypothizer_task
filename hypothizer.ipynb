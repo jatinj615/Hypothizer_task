{
 "cells": [
  {
   "cell_type": "markdown",
   "metadata": {},
   "source": [
    "## Importing Libraries"
   ]
  },
  {
   "cell_type": "code",
   "execution_count": 2,
   "metadata": {},
   "outputs": [],
   "source": [
    "import numpy as np\n",
    "import pandas as pd\n",
    "import matplotlib.pyplot as plt\n",
    "import seaborn as sns"
   ]
  },
  {
   "cell_type": "code",
   "execution_count": 3,
   "metadata": {},
   "outputs": [],
   "source": [
    "import pickle as pkl"
   ]
  },
  {
   "cell_type": "code",
   "execution_count": 4,
   "metadata": {},
   "outputs": [],
   "source": [
    "df = pd.read_pickle('df_train_api.pk')"
   ]
  },
  {
   "cell_type": "code",
   "execution_count": 9,
   "metadata": {},
   "outputs": [
    {
     "data": {
      "text/html": [
       "<div>\n",
       "<style scoped>\n",
       "    .dataframe tbody tr th:only-of-type {\n",
       "        vertical-align: middle;\n",
       "    }\n",
       "\n",
       "    .dataframe tbody tr th {\n",
       "        vertical-align: top;\n",
       "    }\n",
       "\n",
       "    .dataframe thead th {\n",
       "        text-align: right;\n",
       "    }\n",
       "</style>\n",
       "<table border=\"1\" class=\"dataframe\">\n",
       "  <thead>\n",
       "    <tr style=\"text-align: right;\">\n",
       "      <th></th>\n",
       "      <th>groups</th>\n",
       "      <th>type</th>\n",
       "      <th>data</th>\n",
       "      <th>label</th>\n",
       "      <th>coords</th>\n",
       "    </tr>\n",
       "  </thead>\n",
       "  <tbody>\n",
       "    <tr>\n",
       "      <th>270</th>\n",
       "      <td>ACME VISUAL SYSTEMS</td>\n",
       "      <td>(acm visual system, text,text,text, 2337, 1653)</td>\n",
       "      <td>14754</td>\n",
       "      <td>0</td>\n",
       "      <td>[511.0, 143.0, 1217.0, 189.0, 864.0, 166.0]</td>\n",
       "    </tr>\n",
       "    <tr>\n",
       "      <th>271</th>\n",
       "      <td>TAX INVOICE</td>\n",
       "      <td>(tax invoic, text,text, 2337, 1653)</td>\n",
       "      <td>14754</td>\n",
       "      <td>0</td>\n",
       "      <td>[717.0, 264.0, 877.0, 284.0, 797.0, 274.0]</td>\n",
       "    </tr>\n",
       "    <tr>\n",
       "      <th>272</th>\n",
       "      <td>ACME VISUAL SYSTEMS</td>\n",
       "      <td>(acm visual system, text,text,text, 2337, 1653)</td>\n",
       "      <td>14754</td>\n",
       "      <td>0</td>\n",
       "      <td>[166.0, 351.0, 435.0, 369.0, 300.5, 360.0]</td>\n",
       "    </tr>\n",
       "    <tr>\n",
       "      <th>273</th>\n",
       "      <td>808, JANTA FLAT, GTB ENCLAVE, NANAD NAGARI</td>\n",
       "      <td>(number janta flat gtb enclav nanad nagari, nu...</td>\n",
       "      <td>14754</td>\n",
       "      <td>0</td>\n",
       "      <td>[167.0, 384.0, 712.0, 403.0, 439.5, 393.5]</td>\n",
       "    </tr>\n",
       "    <tr>\n",
       "      <th>274</th>\n",
       "      <td>DELHI-110093</td>\n",
       "      <td>(delhi-110093, text, 2337, 1653)</td>\n",
       "      <td>14754</td>\n",
       "      <td>0</td>\n",
       "      <td>[168.0, 417.0, 323.0, 436.0, 245.5, 426.5]</td>\n",
       "    </tr>\n",
       "  </tbody>\n",
       "</table>\n",
       "</div>"
      ],
      "text/plain": [
       "                                         groups  \\\n",
       "270                         ACME VISUAL SYSTEMS   \n",
       "271                                 TAX INVOICE   \n",
       "272                         ACME VISUAL SYSTEMS   \n",
       "273  808, JANTA FLAT, GTB ENCLAVE, NANAD NAGARI   \n",
       "274                                DELHI-110093   \n",
       "\n",
       "                                                  type   data  label  \\\n",
       "270    (acm visual system, text,text,text, 2337, 1653)  14754      0   \n",
       "271                (tax invoic, text,text, 2337, 1653)  14754      0   \n",
       "272    (acm visual system, text,text,text, 2337, 1653)  14754      0   \n",
       "273  (number janta flat gtb enclav nanad nagari, nu...  14754      0   \n",
       "274                   (delhi-110093, text, 2337, 1653)  14754      0   \n",
       "\n",
       "                                          coords  \n",
       "270  [511.0, 143.0, 1217.0, 189.0, 864.0, 166.0]  \n",
       "271   [717.0, 264.0, 877.0, 284.0, 797.0, 274.0]  \n",
       "272   [166.0, 351.0, 435.0, 369.0, 300.5, 360.0]  \n",
       "273   [167.0, 384.0, 712.0, 403.0, 439.5, 393.5]  \n",
       "274   [168.0, 417.0, 323.0, 436.0, 245.5, 426.5]  "
      ]
     },
     "execution_count": 9,
     "metadata": {},
     "output_type": "execute_result"
    }
   ],
   "source": [
    "df.head()"
   ]
  },
  {
   "cell_type": "code",
   "execution_count": 10,
   "metadata": {},
   "outputs": [
    {
     "data": {
      "text/plain": [
       "(4754, 5)"
      ]
     },
     "execution_count": 10,
     "metadata": {},
     "output_type": "execute_result"
    }
   ],
   "source": [
    "df.shape"
   ]
  },
  {
   "cell_type": "code",
   "execution_count": 34,
   "metadata": {},
   "outputs": [],
   "source": [
    "# df[df['label'] == 2]\n",
    "# df['groups']"
   ]
  },
  {
   "cell_type": "code",
   "execution_count": 35,
   "metadata": {},
   "outputs": [],
   "source": [
    "X = df[['groups']]"
   ]
  },
  {
   "cell_type": "code",
   "execution_count": 41,
   "metadata": {},
   "outputs": [],
   "source": [
    "y = df['label']"
   ]
  },
  {
   "cell_type": "code",
   "execution_count": null,
   "metadata": {},
   "outputs": [],
   "source": []
  }
 ],
 "metadata": {
  "kernelspec": {
   "display_name": "Python 3",
   "language": "python",
   "name": "python3"
  },
  "language_info": {
   "codemirror_mode": {
    "name": "ipython",
    "version": 3
   },
   "file_extension": ".py",
   "mimetype": "text/x-python",
   "name": "python",
   "nbconvert_exporter": "python",
   "pygments_lexer": "ipython3",
   "version": "3.6.4"
  }
 },
 "nbformat": 4,
 "nbformat_minor": 2
}
